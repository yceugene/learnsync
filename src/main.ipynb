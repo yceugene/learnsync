{
 "cells": [
  {
   "cell_type": "code",
   "execution_count": 1,
   "metadata": {},
   "outputs": [],
   "source": [
    "# Import libraries\n",
    "import os\n",
    "import numpy as np\n",
    "import pandas as pd\n",
    "import matplotlib.pyplot as plt\n",
    "import seaborn as sns\n",
    "import scipy.stats as stats\n",
    "from scipy.stats import skew\n",
    "from matplotlib_venn import venn3\n",
    "from scipy.stats import shapiro\n",
    "from IPython.display import display\n",
    "from sklearn.cluster import KMeans\n",
    "from sklearn.preprocessing import StandardScaler\n",
    "from sklearn.decomposition import PCA"
   ]
  },
  {
   "cell_type": "code",
   "execution_count": 2,
   "metadata": {},
   "outputs": [
    {
     "data": {
      "application/vnd.microsoft.datawrangler.viewer.v0+json": {
       "columns": [
        {
         "name": "index",
         "rawType": "int64",
         "type": "integer"
        },
        {
         "name": "User ID",
         "rawType": "int64",
         "type": "integer"
        },
        {
         "name": "Age",
         "rawType": "int64",
         "type": "integer"
        },
        {
         "name": "Daily Work Hours",
         "rawType": "float64",
         "type": "float"
        },
        {
         "name": "Daily Leisure Hours",
         "rawType": "float64",
         "type": "float"
        },
        {
         "name": "Daily Exercise Minutes",
         "rawType": "int64",
         "type": "integer"
        },
        {
         "name": "Daily Sleep Hours",
         "rawType": "float64",
         "type": "float"
        },
        {
         "name": "Productivity Score",
         "rawType": "int64",
         "type": "integer"
        },
        {
         "name": "Screen Time (hours)",
         "rawType": "float64",
         "type": "float"
        },
        {
         "name": "Commute Time (hours)",
         "rawType": "float64",
         "type": "float"
        }
       ],
       "conversionMethod": "pd.DataFrame",
       "ref": "c962cd21-57ea-45bd-b47d-d8fcc0f269a7",
       "rows": [
        [
         "49",
         "50",
         "41",
         "5.6",
         "5.0",
         "88",
         "7.5",
         "80",
         "5.9",
         "2.2"
        ],
        [
         "82",
         "83",
         "40",
         "9.3",
         "4.1",
         "65",
         "7.2",
         "94",
         "7.3",
         "1.4"
        ],
        [
         "44",
         "45",
         "18",
         "6.4",
         "5.0",
         "35",
         "7.4",
         "74",
         "4.6",
         "1.6"
        ],
        [
         "50",
         "51",
         "35",
         "8.7",
         "3.5",
         "55",
         "6.9",
         "92",
         "7.6",
         "0.9"
        ],
        [
         "62",
         "63",
         "36",
         "8.1",
         "3.9",
         "95",
         "6.9",
         "89",
         "7.8",
         "2.5"
        ]
       ],
       "shape": {
        "columns": 9,
        "rows": 5
       }
      },
      "text/html": [
       "<div>\n",
       "<style scoped>\n",
       "    .dataframe tbody tr th:only-of-type {\n",
       "        vertical-align: middle;\n",
       "    }\n",
       "\n",
       "    .dataframe tbody tr th {\n",
       "        vertical-align: top;\n",
       "    }\n",
       "\n",
       "    .dataframe thead th {\n",
       "        text-align: right;\n",
       "    }\n",
       "</style>\n",
       "<table border=\"1\" class=\"dataframe\">\n",
       "  <thead>\n",
       "    <tr style=\"text-align: right;\">\n",
       "      <th></th>\n",
       "      <th>User ID</th>\n",
       "      <th>Age</th>\n",
       "      <th>Daily Work Hours</th>\n",
       "      <th>Daily Leisure Hours</th>\n",
       "      <th>Daily Exercise Minutes</th>\n",
       "      <th>Daily Sleep Hours</th>\n",
       "      <th>Productivity Score</th>\n",
       "      <th>Screen Time (hours)</th>\n",
       "      <th>Commute Time (hours)</th>\n",
       "    </tr>\n",
       "  </thead>\n",
       "  <tbody>\n",
       "    <tr>\n",
       "      <th>49</th>\n",
       "      <td>50</td>\n",
       "      <td>41</td>\n",
       "      <td>5.6</td>\n",
       "      <td>5.0</td>\n",
       "      <td>88</td>\n",
       "      <td>7.5</td>\n",
       "      <td>80</td>\n",
       "      <td>5.9</td>\n",
       "      <td>2.2</td>\n",
       "    </tr>\n",
       "    <tr>\n",
       "      <th>82</th>\n",
       "      <td>83</td>\n",
       "      <td>40</td>\n",
       "      <td>9.3</td>\n",
       "      <td>4.1</td>\n",
       "      <td>65</td>\n",
       "      <td>7.2</td>\n",
       "      <td>94</td>\n",
       "      <td>7.3</td>\n",
       "      <td>1.4</td>\n",
       "    </tr>\n",
       "    <tr>\n",
       "      <th>44</th>\n",
       "      <td>45</td>\n",
       "      <td>18</td>\n",
       "      <td>6.4</td>\n",
       "      <td>5.0</td>\n",
       "      <td>35</td>\n",
       "      <td>7.4</td>\n",
       "      <td>74</td>\n",
       "      <td>4.6</td>\n",
       "      <td>1.6</td>\n",
       "    </tr>\n",
       "    <tr>\n",
       "      <th>50</th>\n",
       "      <td>51</td>\n",
       "      <td>35</td>\n",
       "      <td>8.7</td>\n",
       "      <td>3.5</td>\n",
       "      <td>55</td>\n",
       "      <td>6.9</td>\n",
       "      <td>92</td>\n",
       "      <td>7.6</td>\n",
       "      <td>0.9</td>\n",
       "    </tr>\n",
       "    <tr>\n",
       "      <th>62</th>\n",
       "      <td>63</td>\n",
       "      <td>36</td>\n",
       "      <td>8.1</td>\n",
       "      <td>3.9</td>\n",
       "      <td>95</td>\n",
       "      <td>6.9</td>\n",
       "      <td>89</td>\n",
       "      <td>7.8</td>\n",
       "      <td>2.5</td>\n",
       "    </tr>\n",
       "  </tbody>\n",
       "</table>\n",
       "</div>"
      ],
      "text/plain": [
       "    User ID  Age  Daily Work Hours  Daily Leisure Hours  \\\n",
       "49       50   41               5.6                  5.0   \n",
       "82       83   40               9.3                  4.1   \n",
       "44       45   18               6.4                  5.0   \n",
       "50       51   35               8.7                  3.5   \n",
       "62       63   36               8.1                  3.9   \n",
       "\n",
       "    Daily Exercise Minutes  Daily Sleep Hours  Productivity Score  \\\n",
       "49                      88                7.5                  80   \n",
       "82                      65                7.2                  94   \n",
       "44                      35                7.4                  74   \n",
       "50                      55                6.9                  92   \n",
       "62                      95                6.9                  89   \n",
       "\n",
       "    Screen Time (hours)  Commute Time (hours)  \n",
       "49                  5.9                   2.2  \n",
       "82                  7.3                   1.4  \n",
       "44                  4.6                   1.6  \n",
       "50                  7.6                   0.9  \n",
       "62                  7.8                   2.5  "
      ]
     },
     "execution_count": 2,
     "metadata": {},
     "output_type": "execute_result"
    }
   ],
   "source": [
    "path = \"../data/Time Management and Productivity Insights.csv\"\n",
    "data = pd.read_csv(path)\n",
    "data.sample(5)"
   ]
  },
  {
   "cell_type": "code",
   "execution_count": 3,
   "metadata": {},
   "outputs": [
    {
     "data": {
      "application/vnd.microsoft.datawrangler.viewer.v0+json": {
       "columns": [
        {
         "name": "index",
         "rawType": "object",
         "type": "string"
        },
        {
         "name": "User ID",
         "rawType": "float64",
         "type": "float"
        },
        {
         "name": "Age",
         "rawType": "float64",
         "type": "float"
        },
        {
         "name": "Daily Work Hours",
         "rawType": "float64",
         "type": "float"
        },
        {
         "name": "Daily Leisure Hours",
         "rawType": "float64",
         "type": "float"
        },
        {
         "name": "Daily Exercise Minutes",
         "rawType": "float64",
         "type": "float"
        },
        {
         "name": "Daily Sleep Hours",
         "rawType": "float64",
         "type": "float"
        },
        {
         "name": "Productivity Score",
         "rawType": "float64",
         "type": "float"
        },
        {
         "name": "Screen Time (hours)",
         "rawType": "float64",
         "type": "float"
        },
        {
         "name": "Commute Time (hours)",
         "rawType": "float64",
         "type": "float"
        }
       ],
       "conversionMethod": "pd.DataFrame",
       "ref": "8209a6c6-ca62-4240-91cf-5c57107f4d00",
       "rows": [
        [
         "count",
         "85.0",
         "85.0",
         "85.0",
         "85.0",
         "85.0",
         "85.0",
         "85.0",
         "85.0",
         "85.0"
        ],
        [
         "mean",
         "43.0",
         "39.529411764705884",
         "7.021176470588235",
         "4.264705882352941",
         "64.61176470588235",
         "7.1117647058823525",
         "82.17647058823529",
         "5.774117647058824",
         "1.584705882352941"
        ],
        [
         "std",
         "24.681301964577692",
         "12.416951005335711",
         "1.523396433853602",
         "1.1573477357789252",
         "27.00665443466668",
         "0.7835225351100054",
         "10.250640480092002",
         "1.2253428034612996",
         "0.5341896137303372"
        ],
        [
         "min",
         "1.0",
         "18.0",
         "3.4",
         "1.7",
         "6.0",
         "5.2",
         "55.0",
         "2.8",
         "0.6"
        ],
        [
         "25%",
         "22.0",
         "29.0",
         "5.9",
         "3.4",
         "45.0",
         "6.6",
         "74.0",
         "4.9",
         "1.2"
        ],
        [
         "50%",
         "43.0",
         "39.0",
         "7.1",
         "4.3",
         "65.0",
         "7.1",
         "85.0",
         "5.9",
         "1.6"
        ],
        [
         "75%",
         "64.0",
         "50.0",
         "8.2",
         "5.1",
         "88.0",
         "7.7",
         "90.0",
         "6.9",
         "2.0"
        ],
        [
         "max",
         "85.0",
         "63.0",
         "9.5",
         "6.4",
         "120.0",
         "8.8",
         "95.0",
         "7.8",
         "2.5"
        ]
       ],
       "shape": {
        "columns": 9,
        "rows": 8
       }
      },
      "text/html": [
       "<div>\n",
       "<style scoped>\n",
       "    .dataframe tbody tr th:only-of-type {\n",
       "        vertical-align: middle;\n",
       "    }\n",
       "\n",
       "    .dataframe tbody tr th {\n",
       "        vertical-align: top;\n",
       "    }\n",
       "\n",
       "    .dataframe thead th {\n",
       "        text-align: right;\n",
       "    }\n",
       "</style>\n",
       "<table border=\"1\" class=\"dataframe\">\n",
       "  <thead>\n",
       "    <tr style=\"text-align: right;\">\n",
       "      <th></th>\n",
       "      <th>User ID</th>\n",
       "      <th>Age</th>\n",
       "      <th>Daily Work Hours</th>\n",
       "      <th>Daily Leisure Hours</th>\n",
       "      <th>Daily Exercise Minutes</th>\n",
       "      <th>Daily Sleep Hours</th>\n",
       "      <th>Productivity Score</th>\n",
       "      <th>Screen Time (hours)</th>\n",
       "      <th>Commute Time (hours)</th>\n",
       "    </tr>\n",
       "  </thead>\n",
       "  <tbody>\n",
       "    <tr>\n",
       "      <th>count</th>\n",
       "      <td>85.000000</td>\n",
       "      <td>85.000000</td>\n",
       "      <td>85.000000</td>\n",
       "      <td>85.000000</td>\n",
       "      <td>85.000000</td>\n",
       "      <td>85.000000</td>\n",
       "      <td>85.000000</td>\n",
       "      <td>85.000000</td>\n",
       "      <td>85.000000</td>\n",
       "    </tr>\n",
       "    <tr>\n",
       "      <th>mean</th>\n",
       "      <td>43.000000</td>\n",
       "      <td>39.529412</td>\n",
       "      <td>7.021176</td>\n",
       "      <td>4.264706</td>\n",
       "      <td>64.611765</td>\n",
       "      <td>7.111765</td>\n",
       "      <td>82.176471</td>\n",
       "      <td>5.774118</td>\n",
       "      <td>1.584706</td>\n",
       "    </tr>\n",
       "    <tr>\n",
       "      <th>std</th>\n",
       "      <td>24.681302</td>\n",
       "      <td>12.416951</td>\n",
       "      <td>1.523396</td>\n",
       "      <td>1.157348</td>\n",
       "      <td>27.006654</td>\n",
       "      <td>0.783523</td>\n",
       "      <td>10.250640</td>\n",
       "      <td>1.225343</td>\n",
       "      <td>0.534190</td>\n",
       "    </tr>\n",
       "    <tr>\n",
       "      <th>min</th>\n",
       "      <td>1.000000</td>\n",
       "      <td>18.000000</td>\n",
       "      <td>3.400000</td>\n",
       "      <td>1.700000</td>\n",
       "      <td>6.000000</td>\n",
       "      <td>5.200000</td>\n",
       "      <td>55.000000</td>\n",
       "      <td>2.800000</td>\n",
       "      <td>0.600000</td>\n",
       "    </tr>\n",
       "    <tr>\n",
       "      <th>25%</th>\n",
       "      <td>22.000000</td>\n",
       "      <td>29.000000</td>\n",
       "      <td>5.900000</td>\n",
       "      <td>3.400000</td>\n",
       "      <td>45.000000</td>\n",
       "      <td>6.600000</td>\n",
       "      <td>74.000000</td>\n",
       "      <td>4.900000</td>\n",
       "      <td>1.200000</td>\n",
       "    </tr>\n",
       "    <tr>\n",
       "      <th>50%</th>\n",
       "      <td>43.000000</td>\n",
       "      <td>39.000000</td>\n",
       "      <td>7.100000</td>\n",
       "      <td>4.300000</td>\n",
       "      <td>65.000000</td>\n",
       "      <td>7.100000</td>\n",
       "      <td>85.000000</td>\n",
       "      <td>5.900000</td>\n",
       "      <td>1.600000</td>\n",
       "    </tr>\n",
       "    <tr>\n",
       "      <th>75%</th>\n",
       "      <td>64.000000</td>\n",
       "      <td>50.000000</td>\n",
       "      <td>8.200000</td>\n",
       "      <td>5.100000</td>\n",
       "      <td>88.000000</td>\n",
       "      <td>7.700000</td>\n",
       "      <td>90.000000</td>\n",
       "      <td>6.900000</td>\n",
       "      <td>2.000000</td>\n",
       "    </tr>\n",
       "    <tr>\n",
       "      <th>max</th>\n",
       "      <td>85.000000</td>\n",
       "      <td>63.000000</td>\n",
       "      <td>9.500000</td>\n",
       "      <td>6.400000</td>\n",
       "      <td>120.000000</td>\n",
       "      <td>8.800000</td>\n",
       "      <td>95.000000</td>\n",
       "      <td>7.800000</td>\n",
       "      <td>2.500000</td>\n",
       "    </tr>\n",
       "  </tbody>\n",
       "</table>\n",
       "</div>"
      ],
      "text/plain": [
       "         User ID        Age  Daily Work Hours  Daily Leisure Hours  \\\n",
       "count  85.000000  85.000000         85.000000            85.000000   \n",
       "mean   43.000000  39.529412          7.021176             4.264706   \n",
       "std    24.681302  12.416951          1.523396             1.157348   \n",
       "min     1.000000  18.000000          3.400000             1.700000   \n",
       "25%    22.000000  29.000000          5.900000             3.400000   \n",
       "50%    43.000000  39.000000          7.100000             4.300000   \n",
       "75%    64.000000  50.000000          8.200000             5.100000   \n",
       "max    85.000000  63.000000          9.500000             6.400000   \n",
       "\n",
       "       Daily Exercise Minutes  Daily Sleep Hours  Productivity Score  \\\n",
       "count               85.000000          85.000000           85.000000   \n",
       "mean                64.611765           7.111765           82.176471   \n",
       "std                 27.006654           0.783523           10.250640   \n",
       "min                  6.000000           5.200000           55.000000   \n",
       "25%                 45.000000           6.600000           74.000000   \n",
       "50%                 65.000000           7.100000           85.000000   \n",
       "75%                 88.000000           7.700000           90.000000   \n",
       "max                120.000000           8.800000           95.000000   \n",
       "\n",
       "       Screen Time (hours)  Commute Time (hours)  \n",
       "count            85.000000             85.000000  \n",
       "mean              5.774118              1.584706  \n",
       "std               1.225343              0.534190  \n",
       "min               2.800000              0.600000  \n",
       "25%               4.900000              1.200000  \n",
       "50%               5.900000              1.600000  \n",
       "75%               6.900000              2.000000  \n",
       "max               7.800000              2.500000  "
      ]
     },
     "execution_count": 3,
     "metadata": {},
     "output_type": "execute_result"
    }
   ],
   "source": [
    "data.describe()"
   ]
  },
  {
   "cell_type": "code",
   "execution_count": 4,
   "metadata": {},
   "outputs": [
    {
     "name": "stdout",
     "output_type": "stream",
     "text": [
      "<class 'pandas.core.frame.DataFrame'>\n",
      "RangeIndex: 85 entries, 0 to 84\n",
      "Data columns (total 9 columns):\n",
      " #   Column                  Non-Null Count  Dtype  \n",
      "---  ------                  --------------  -----  \n",
      " 0   User ID                 85 non-null     int64  \n",
      " 1   Age                     85 non-null     int64  \n",
      " 2   Daily Work Hours        85 non-null     float64\n",
      " 3   Daily Leisure Hours     85 non-null     float64\n",
      " 4   Daily Exercise Minutes  85 non-null     int64  \n",
      " 5   Daily Sleep Hours       85 non-null     float64\n",
      " 6   Productivity Score      85 non-null     int64  \n",
      " 7   Screen Time (hours)     85 non-null     float64\n",
      " 8   Commute Time (hours)    85 non-null     float64\n",
      "dtypes: float64(5), int64(4)\n",
      "memory usage: 6.1 KB\n"
     ]
    }
   ],
   "source": [
    "data.info()"
   ]
  },
  {
   "cell_type": "markdown",
   "metadata": {},
   "source": [
    "# Preprocessing"
   ]
  },
  {
   "cell_type": "code",
   "execution_count": 5,
   "metadata": {},
   "outputs": [],
   "source": [
    "features = data.drop('User ID', axis=1)\n",
    "X = features.values\n",
    "\n",
    "# Standardize the data\n",
    "scaler = StandardScaler()\n",
    "X_scaled = scaler.fit_transform(X)"
   ]
  }
 ],
 "metadata": {
  "kernelspec": {
   "display_name": "base",
   "language": "python",
   "name": "python3"
  },
  "language_info": {
   "codemirror_mode": {
    "name": "ipython",
    "version": 3
   },
   "file_extension": ".py",
   "mimetype": "text/x-python",
   "name": "python",
   "nbconvert_exporter": "python",
   "pygments_lexer": "ipython3",
   "version": "3.12.7"
  }
 },
 "nbformat": 4,
 "nbformat_minor": 2
}
