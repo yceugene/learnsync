{
 "cells": [
  {
   "cell_type": "markdown",
   "id": "65f845ad",
   "metadata": {},
   "source": [
    "# Learnsync ML use case implementation (Simulation version)"
   ]
  },
  {
   "cell_type": "code",
   "execution_count": null,
   "id": "09386551",
   "metadata": {},
   "outputs": [],
   "source": [
    "# Import libraries\n",
    "import os\n",
    "import numpy as np\n",
    "import pandas as pd\n",
    "import matplotlib.pyplot as plt\n",
    "import seaborn as sns\n",
    "import scipy.stats as stats\n",
    "from scipy.stats import skew\n",
    "from matplotlib_venn import venn3\n",
    "from scipy.stats import shapiro\n",
    "from IPython.display import display\n",
    "from sklearn.cluster import KMeans\n",
    "from sklearn.preprocessing import StandardScaler\n",
    "from sklearn.decomposition import PCA\n",
    "from sklearn.linear_model import LinearRegression\n",
    "from sklearn.model_selection import train_test_split\n",
    "from sklearn.metrics import mean_squared_error, r2_score\n",
    "import statsmodels.api as sm"
   ]
  },
  {
   "cell_type": "markdown",
   "id": "37abca37",
   "metadata": {},
   "source": [
    "## Generate dataset\n",
    "- The original dataset we chose from [Time Management and Productivity Insights](https://www.kaggle.com/datasets/hanaksoy/time-management-and-productivity-insights/data) is fictitious. And does not contain relationships between the independent features and the Productivity Level. Thus we decide to generate our own dataset for one of our ML use case `Providing time management tips and learning strategies`.\n",
    "- The columns in our generated dataset are consistent with the original dataset."
   ]
  },
  {
   "cell_type": "code",
   "execution_count": null,
   "id": "88bdf2d0",
   "metadata": {},
   "outputs": [
    {
     "name": "stdout",
     "output_type": "stream",
     "text": [
      "Generate 1000 data. \n",
      "Shape of dataframe: (1000, 9)\n"
     ]
    },
    {
     "data": {
      "text/html": [
       "<div>\n",
       "<style scoped>\n",
       "    .dataframe tbody tr th:only-of-type {\n",
       "        vertical-align: middle;\n",
       "    }\n",
       "\n",
       "    .dataframe tbody tr th {\n",
       "        vertical-align: top;\n",
       "    }\n",
       "\n",
       "    .dataframe thead th {\n",
       "        text-align: right;\n",
       "    }\n",
       "</style>\n",
       "<table border=\"1\" class=\"dataframe\">\n",
       "  <thead>\n",
       "    <tr style=\"text-align: right;\">\n",
       "      <th></th>\n",
       "      <th>User ID</th>\n",
       "      <th>Age</th>\n",
       "      <th>Daily Work Hours</th>\n",
       "      <th>Daily Leisure Hours</th>\n",
       "      <th>Daily Exercise Minutes</th>\n",
       "      <th>Daily Sleep Hours</th>\n",
       "      <th>Screen Time (hours)</th>\n",
       "      <th>Commute Time (hours)</th>\n",
       "      <th>Productivity Score</th>\n",
       "    </tr>\n",
       "  </thead>\n",
       "  <tbody>\n",
       "    <tr>\n",
       "      <th>451</th>\n",
       "      <td>452</td>\n",
       "      <td>45</td>\n",
       "      <td>5.353241</td>\n",
       "      <td>3.625027</td>\n",
       "      <td>61.474171</td>\n",
       "      <td>5.425349</td>\n",
       "      <td>1.555754</td>\n",
       "      <td>1.835201</td>\n",
       "      <td>11.919997</td>\n",
       "    </tr>\n",
       "    <tr>\n",
       "      <th>677</th>\n",
       "      <td>678</td>\n",
       "      <td>36</td>\n",
       "      <td>7.894448</td>\n",
       "      <td>4.863235</td>\n",
       "      <td>77.109313</td>\n",
       "      <td>6.260042</td>\n",
       "      <td>5.919532</td>\n",
       "      <td>0.811624</td>\n",
       "      <td>18.266010</td>\n",
       "    </tr>\n",
       "    <tr>\n",
       "      <th>837</th>\n",
       "      <td>838</td>\n",
       "      <td>30</td>\n",
       "      <td>4.557575</td>\n",
       "      <td>3.354529</td>\n",
       "      <td>0.772225</td>\n",
       "      <td>8.212980</td>\n",
       "      <td>3.706813</td>\n",
       "      <td>1.394896</td>\n",
       "      <td>14.312226</td>\n",
       "    </tr>\n",
       "    <tr>\n",
       "      <th>635</th>\n",
       "      <td>636</td>\n",
       "      <td>52</td>\n",
       "      <td>5.130095</td>\n",
       "      <td>2.895159</td>\n",
       "      <td>74.223247</td>\n",
       "      <td>8.846463</td>\n",
       "      <td>2.548344</td>\n",
       "      <td>1.427304</td>\n",
       "      <td>12.705550</td>\n",
       "    </tr>\n",
       "    <tr>\n",
       "      <th>493</th>\n",
       "      <td>494</td>\n",
       "      <td>31</td>\n",
       "      <td>4.745320</td>\n",
       "      <td>1.782086</td>\n",
       "      <td>61.604185</td>\n",
       "      <td>6.486186</td>\n",
       "      <td>3.285298</td>\n",
       "      <td>0.743454</td>\n",
       "      <td>13.190941</td>\n",
       "    </tr>\n",
       "  </tbody>\n",
       "</table>\n",
       "</div>"
      ],
      "text/plain": [
       "     User ID  Age  Daily Work Hours  Daily Leisure Hours  \\\n",
       "451      452   45          5.353241             3.625027   \n",
       "677      678   36          7.894448             4.863235   \n",
       "837      838   30          4.557575             3.354529   \n",
       "635      636   52          5.130095             2.895159   \n",
       "493      494   31          4.745320             1.782086   \n",
       "\n",
       "     Daily Exercise Minutes  Daily Sleep Hours  Screen Time (hours)  \\\n",
       "451               61.474171           5.425349             1.555754   \n",
       "677               77.109313           6.260042             5.919532   \n",
       "837                0.772225           8.212980             3.706813   \n",
       "635               74.223247           8.846463             2.548344   \n",
       "493               61.604185           6.486186             3.285298   \n",
       "\n",
       "     Commute Time (hours)  Productivity Score  \n",
       "451              1.835201           11.919997  \n",
       "677              0.811624           18.266010  \n",
       "837              1.394896           14.312226  \n",
       "635              1.427304           12.705550  \n",
       "493              0.743454           13.190941  "
      ]
     },
     "metadata": {},
     "output_type": "display_data"
    }
   ],
   "source": [
    "def gen_dataset(n_samples=500):\n",
    "    \"\"\"\n",
    "    Input: sample numbers\n",
    "    Output: dataset in pd.DataFrame format\n",
    "\n",
    "    Assumption:\n",
    "    - Factors with positive relationship to productivity:\n",
    "        daily_work_hours, daily_sleep_hours, exercise_hours, daily_leisure_hours\n",
    "    - Factors with negative relationship to productivity:\n",
    "        commute_time, screen_time, age\n",
    "\n",
    "    The productivity score is generated using a weighted sum of features.\n",
    "    Each weight reflects how strongly that factor is assumed to influence productivity.\n",
    "    A small amount of random noise is added to simulate real-world unpredictability.\n",
    "    \"\"\"\n",
    "    import numpy as np\n",
    "    import pandas as pd\n",
    "\n",
    "    np.random.seed(42)\n",
    "\n",
    "    # Generate features\n",
    "    user_id = np.arange(1, n_samples + 1)\n",
    "    age = np.random.randint(20, 60, size=n_samples)\n",
    "    daily_work_hours = np.random.uniform(4, 10, size=n_samples)\n",
    "    daily_leisure_hours = np.random.uniform(0.5, 5, size=n_samples)\n",
    "    daily_exercise_minutes = np.random.uniform(0, 120, size=n_samples)\n",
    "    daily_sleep_hours = np.random.uniform(5, 9, size=n_samples)\n",
    "    screen_time = np.random.uniform(1, 6, size=n_samples)\n",
    "    commute_time = np.random.uniform(0, 2, size=n_samples)\n",
    "\n",
    "    # Convert exercise time to hours\n",
    "    exercise_hours = daily_exercise_minutes / 60.0\n",
    "\n",
    "    # Assume the productivity score follows a realistic pattern:\n",
    "    productivity_score = (\n",
    "        1.5 * daily_work_hours           # More work hours can increase productivity\n",
    "        + 1.0 * daily_sleep_hours        # Better sleep supports better focus and output\n",
    "        + 0.8 * exercise_hours           # Physical activity improves energy and alertness\n",
    "        + 0.4 * daily_leisure_hours      # Moderate leisure helps reduce stress\n",
    "        - 0.6 * commute_time             # Longer commutes reduce time and energy for work\n",
    "        - 0.05 * age                     # Slight decline in productivity with age\n",
    "        - 0.2 * screen_time              # Excessive screen time may distract or tire users\n",
    "        + np.random.normal(0, 2, size=n_samples)  # Add some noise to mimic real-life variance\n",
    "    )\n",
    "\n",
    "    # Clip productivity score to 0–100 range\n",
    "    productivity_score = np.clip(productivity_score, 0, 100)\n",
    "\n",
    "    # Create the final DataFrame\n",
    "    df = pd.DataFrame({\n",
    "        'User ID': user_id,\n",
    "        'Age': age,\n",
    "        'Daily Work Hours': daily_work_hours,\n",
    "        'Daily Leisure Hours': daily_leisure_hours,\n",
    "        'Daily Exercise Minutes': daily_exercise_minutes,\n",
    "        'Daily Sleep Hours': daily_sleep_hours,\n",
    "        'Screen Time (hours)': screen_time,\n",
    "        'Commute Time (hours)': commute_time,\n",
    "        'Productivity Level': productivity_score\n",
    "    })\n",
    "\n",
    "    return df\n"
   ]
  },
  {
   "cell_type": "markdown",
   "id": "4ef29eff",
   "metadata": {},
   "source": [
    "## Store dataframe into csv file."
   ]
  },
  {
   "cell_type": "code",
   "execution_count": 47,
   "id": "94cab58e",
   "metadata": {},
   "outputs": [
    {
     "name": "stdout",
     "output_type": "stream",
     "text": [
      "Dataset saved as ../data/synthetic_productivity_dataset.csv\n"
     ]
    }
   ],
   "source": [
    "# Save the generated dataset to a CSV file\n",
    "path = \"../data/synthetic_productivity_dataset.csv\"\n",
    "gen_data.to_csv(path, index=False)\n",
    "print(f\"Dataset saved as {path}\")"
   ]
  },
  {
   "cell_type": "markdown",
   "id": "830fd8a1",
   "metadata": {},
   "source": [
    "## Load dataset again from csv file."
   ]
  },
  {
   "cell_type": "code",
   "execution_count": 48,
   "id": "bcd62cab",
   "metadata": {},
   "outputs": [],
   "source": [
    "# Create dataset\n",
    "path = \"../data/synthetic_productivity_dataset.csv\"\n",
    "data = pd.read_csv(path)"
   ]
  },
  {
   "cell_type": "markdown",
   "id": "ab1d1d87",
   "metadata": {},
   "source": [
    "## Split into training and testing set"
   ]
  },
  {
   "cell_type": "code",
   "execution_count": null,
   "id": "7f831336",
   "metadata": {},
   "outputs": [],
   "source": [
    "from sklearn.preprocessing import StandardScaler\n",
    "from sklearn.model_selection import train_test_split\n",
    "\n",
    "# Select features\n",
    "features = ['Age', 'Daily Work Hours', 'Daily Leisure Hours', 'Daily Exercise Minutes',\n",
    "            'Daily Sleep Hours', 'Screen Time (hours)', 'Commute Time (hours)']\n",
    "X = data[features]\n",
    "y = data['Productivity Score']\n",
    "\n",
    "# Prepare Training and testing set\n",
    "X_train, X_test, y_train, y_test = train_test_split(X, y, test_size=0.2, random_state=42)\n",
    "\n",
    "# Conduct Z-scaled normalization\n",
    "scaler = StandardScaler()\n",
    "X_train_scaled = scaler.fit_transform(X_train)   # Fit on training data\n",
    "X_test_scaled = scaler.transform(X_test)         # Transform test data using training stats"
   ]
  },
  {
   "cell_type": "markdown",
   "id": "a7a22121",
   "metadata": {},
   "source": [
    "## MLR: Multi-input regression task"
   ]
  },
  {
   "cell_type": "code",
   "execution_count": 51,
   "id": "dd443e14",
   "metadata": {},
   "outputs": [
    {
     "name": "stdout",
     "output_type": "stream",
     "text": [
      "MSE: 3.62\n",
      "R_square: 0.76\n",
      "                  Feature  Coefficient\n",
      "1        Daily Work Hours     2.579189\n",
      "4       Daily Sleep Hours     1.214959\n",
      "2     Daily Leisure Hours     0.508517\n",
      "3  Daily Exercise Minutes     0.479787\n",
      "5     Screen Time (hours)    -0.187482\n",
      "6    Commute Time (hours)    -0.388894\n",
      "0                     Age    -0.551266\n"
     ]
    }
   ],
   "source": [
    "from sklearn.linear_model import LinearRegression\n",
    "from sklearn.metrics import mean_squared_error, r2_score\n",
    "\n",
    "# Create and train regression model\n",
    "model = LinearRegression()\n",
    "model.fit(X_train_scaled, y_train)\n",
    "\n",
    "# Predict the Productivity Score on testing set\n",
    "y_pred = model.predict(X_test_scaled)\n",
    "\n",
    "# Evluate model by testing results\n",
    "mse = mean_squared_error(y_test, y_pred)\n",
    "r2 = r2_score(y_test, y_pred)\n",
    "\n",
    "# Print evaluation results\n",
    "print(f\"MSE: {mse:.2f}\")\n",
    "print(f\"R_square: {r2:.2f}\")\n",
    "\n",
    "# Print model coefficients\n",
    "coefficients = pd.DataFrame({\n",
    "    'Feature': features,\n",
    "    'Coefficient': model.coef_\n",
    "})\n",
    "print(coefficients.sort_values(by='Coefficient', ascending=False))"
   ]
  }
 ],
 "metadata": {
  "kernelspec": {
   "display_name": "cscn8010_py311d",
   "language": "python",
   "name": "python3"
  },
  "language_info": {
   "codemirror_mode": {
    "name": "ipython",
    "version": 3
   },
   "file_extension": ".py",
   "mimetype": "text/x-python",
   "name": "python",
   "nbconvert_exporter": "python",
   "pygments_lexer": "ipython3",
   "version": "3.11.11"
  }
 },
 "nbformat": 4,
 "nbformat_minor": 5
}
